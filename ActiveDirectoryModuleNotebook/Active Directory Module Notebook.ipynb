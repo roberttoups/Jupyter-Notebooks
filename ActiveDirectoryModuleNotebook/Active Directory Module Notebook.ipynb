{
    "metadata": {
        "kernelspec": {
            "name": "powershell",
            "display_name": "PowerShell"
        },
        "language_info": {
            "name": "powershell",
            "codemirror_mode": "shell",
            "mimetype": "text/x-sh",
            "file_extension": ".ps1"
        }
    },
    "nbformat_minor": 2,
    "nbformat": 4,
    "cells": [
        {
            "cell_type": "markdown",
            "source": [
                "# Active Directory Module Notebook\r\n",
                "\r\n",
                "This Jupyter Notebook explores the various Active Directory Module Cmdlets and sample usage. This notebook is intended to be run on systems that can add the `RSAT-AD-PowerShell` Windows Feature. All the Active Directory CmdLets used in this notebook are read-only (i.e., Get-). No data will be written to Active Directory and this notebook should not be run by a member of a Privileged Group. These are simplistic examples and will not work with some inter-domain/inter-forest lookups. Those queries would make an excellent update."
            ],
            "metadata": {
                "azdata_cell_guid": "4f4ff8a6-8c23-47d4-9088-bf170e6716e4"
            }
        },
        {
            "cell_type": "code",
            "source": [
                "$RunTime = [System.Diagnostics.Stopwatch]::StartNew()"
            ],
            "metadata": {
                "azdata_cell_guid": "2d0087d6-9166-4144-8581-b1f6858c608e"
            },
            "outputs": [],
            "execution_count": 1
        },
        {
            "cell_type": "markdown",
            "source": [
                "## Active Directory Module Installation and Loading"
            ],
            "metadata": {
                "azdata_cell_guid": "a00a418d-7de7-4a1c-bea6-1136f7c4d1b6"
            }
        },
        {
            "cell_type": "markdown",
            "source": [
                "### Install Active Directory PowerShell Module\r\n",
                "\r\n",
                "If the Active Directory module is not installed on your system, this will install the Windows Feature `RSAT-AD-PowerShell` on it."
            ],
            "metadata": {
                "azdata_cell_guid": "ee57a25d-8260-454f-b37c-1def539361e7"
            }
        },
        {
            "cell_type": "code",
            "source": [
                "$FeatureName = 'RSAT-AD-PowerShell'\r\n",
                "$FeatureFound = Get-WindowsFeature -Name $FeatureName | \r\n",
                "    Select-Object -ExpandProperty 'Installed'\r\n",
                "if($FeatureFound -eq $false) {\r\n",
                "    Install-WindowsFeature -Name $FeatureName -Verbose\r\n",
                "} else {\r\n",
                "    Write-Output \"$FeatureName is already installed\"\r\n",
                "}"
            ],
            "metadata": {
                "azdata_cell_guid": "e73e6f13-60ce-4ae1-8747-8634a7c21027",
                "tags": []
            },
            "outputs": [],
            "execution_count": 2
        },
        {
            "cell_type": "markdown",
            "source": [
                "### Trust but Verify"
            ],
            "metadata": {
                "azdata_cell_guid": "52efc912-3f5b-455e-89fa-edc717045fec"
            }
        },
        {
            "cell_type": "code",
            "source": [
                "$ModuleTest = Get-Module -Name 'ActiveDirectory' -ListAvailable\n",
                "if($ModuleTest) { \n",
                "    Write-Output 'The Active Directory module is installed.'\n",
                "    $ModuleTest | \n",
                "        Format-Table -Property @(\n",
                "            'Name',\n",
                "            'Version',\n",
                "            @{Name='Total CmdLets';Expression={$_.ExportedCmdlets.Count}},\n",
                "            @{Name='Total Get CmdLets';Expression={($_.ExportedCmdlets.Keys | Where-Object { $_ -match 'Get-' }).Count}}\n",
                "        )\n",
                "} else {\n",
                "    Write-Output \"I don't think you are going to get too far with this notebook if the Active Directory module is not present on your computer.\"\n",
                "}"
            ],
            "metadata": {
                "azdata_cell_guid": "83b3fc34-92a6-4c29-ae1b-c56cc1724e3e"
            },
            "outputs": [],
            "execution_count": 3
        },
        {
            "cell_type": "markdown",
            "source": [
                "### Import Active Directory Module\n",
                "\n",
                "This will force the module to be loaded."
            ],
            "metadata": {
                "azdata_cell_guid": "d2064384-ee6a-4f7e-a347-8a2da6f544f1"
            }
        },
        {
            "cell_type": "code",
            "source": [
                "Import-Module -Name 'ActiveDirectory' -Force"
            ],
            "metadata": {
                "azdata_cell_guid": "67b26a4e-6762-41df-bda2-3ecb1af2c295",
                "language": "markdown",
                "tags": [
                    "hide_input"
                ]
            },
            "outputs": [],
            "execution_count": 4
        },
        {
            "cell_type": "markdown",
            "source": [
                "## Do I like to run code as a Tier 0 Account?"
            ],
            "metadata": {
                "azdata_cell_guid": "aa70dd48-6dd8-4733-b42a-d7235fe68495"
            }
        },
        {
            "cell_type": "code",
            "source": [
                "$Found = $null\r\n",
                "$Username = $env:USERNAME\r\n",
                "$MyDistinguishedName = Get-ADUser -Identity $Username |\r\n",
                "    Select-Object -ExpandProperty 'DistinguishedName'\r\n",
                "if($MyDistinguishedName) {\r\n",
                "    $AdministratorList = Get-ADGroupMember -Identity 'Administrators' -Recursive |\r\n",
                "        Select-Object -ExpandProperty 'DistinguishedName'\r\n",
                "    if($AdministratorList) {\r\n",
                "        $Found = $AdministratorList |\r\n",
                "            Where-Object { $_ -contains $MyDistinguishedName }\r\n",
                "    }\r\n",
                "}\r\n",
                "if($Found) {\r\n",
                "    Write-Output \"*** $Username likes to run code off the Internet with a Tier 0 account! ***\"\r\n",
                "} else {\r\n",
                "    Write-Output \"$Username does not run code off the Internet with a Tier 0 account.\"\r\n",
                "}"
            ],
            "metadata": {
                "azdata_cell_guid": "b71d61ec-4e34-4fa6-b548-2487ec2a95cb",
                "tags": []
            },
            "outputs": [],
            "execution_count": 5
        },
        {
            "cell_type": "markdown",
            "source": [
                "## Domain Controllers"
            ],
            "metadata": {
                "azdata_cell_guid": "1a110898-98f3-4b79-87fa-bcb3e58abb48"
            }
        },
        {
            "cell_type": "markdown",
            "source": [
                "### Find A Domain Controller\r\n",
                "\r\n",
                "Make sure you run this code section before running ones after this one. Most are dependent on the `$DomainController` object."
            ],
            "metadata": {
                "azdata_cell_guid": "1abc9117-f0d4-4eb7-9c97-f289b1cca3dc"
            }
        },
        {
            "cell_type": "code",
            "source": [
                "$DomainController = Get-ADDomainController -Service 'ADWS' -Discover\r\n",
                "$DomainController.HostName[0]"
            ],
            "metadata": {
                "azdata_cell_guid": "dc62b5d0-299e-4573-bbdd-b23d707faa3a",
                "tags": [
                    "hide_input"
                ]
            },
            "outputs": [],
            "execution_count": 6
        },
        {
            "cell_type": "markdown",
            "source": [
                "### List of all Domain Controllers"
            ],
            "metadata": {
                "azdata_cell_guid": "db616a38-aa00-4413-8b98-7f7ad8292059"
            }
        },
        {
            "cell_type": "code",
            "source": [
                "$DomainControlerCollection = Get-ADDomainController -Filter *\r\n",
                "$DomainControlerCollection |\r\n",
                "    Format-Table -Property @('HostName','Site','OperatingSystem','ComputerObjectDN')"
            ],
            "metadata": {
                "azdata_cell_guid": "cbcf792e-7022-4ae1-9545-ff20d0c7a01b",
                "tags": [
                    "hide_input"
                ]
            },
            "outputs": [],
            "execution_count": 7
        },
        {
            "cell_type": "markdown",
            "source": [
                "## Forest Information"
            ],
            "metadata": {
                "azdata_cell_guid": "00125f64-b8a9-48fa-9845-15081ced9db3"
            }
        },
        {
            "cell_type": "markdown",
            "source": [
                "### Get Forest Information"
            ],
            "metadata": {
                "azdata_cell_guid": "714a2468-8b78-4185-99ac-097882561494"
            }
        },
        {
            "cell_type": "code",
            "source": [
                "$ForestInformation = Get-ADForest -Server $DomainController\r\n",
                "$ForestInformation"
            ],
            "metadata": {
                "azdata_cell_guid": "ff42be08-6fa5-48f7-a823-a6e9b4ed1678",
                "tags": [
                    "hide_input"
                ]
            },
            "outputs": [],
            "execution_count": 8
        },
        {
            "cell_type": "markdown",
            "source": [
                "### RootDSE"
            ],
            "metadata": {
                "azdata_cell_guid": "c26a57b3-12a3-4115-b7c6-8532f959d110"
            }
        },
        {
            "cell_type": "code",
            "source": [
                "Get-ADRootDSE -Server $DomainController"
            ],
            "metadata": {
                "azdata_cell_guid": "b7a75bae-cad4-4faa-b2d9-0cb562c2ee52",
                "tags": [
                    "hide_input"
                ]
            },
            "outputs": [],
            "execution_count": 9
        },
        {
            "cell_type": "markdown",
            "source": [
                "### Forest Mode"
            ],
            "metadata": {
                "azdata_cell_guid": "3f4732fa-c944-4a03-87ba-0ab92832a705"
            }
        },
        {
            "cell_type": "code",
            "source": [
                "$ForestInformation.ForestMode"
            ],
            "metadata": {
                "azdata_cell_guid": "21da5b94-ff55-4cfa-8ad1-3ef36eca03c3"
            },
            "outputs": [],
            "execution_count": 10
        },
        {
            "cell_type": "markdown",
            "source": [
                "### Forest FSMO Role Holders"
            ],
            "metadata": {
                "azdata_cell_guid": "ef456c30-8b57-45b7-b938-0b39bcd9b121"
            }
        },
        {
            "cell_type": "code",
            "source": [
                "$ForestInformation |\r\n",
                "    Select-Object -Property @(\r\n",
                "        'DomainNamingMaster'\r\n",
                "        'SchemaMaster'\r\n",
                "    ) |\r\n",
                "    Format-List"
            ],
            "metadata": {
                "azdata_cell_guid": "86e53597-4c3d-4a1e-a16f-e1a3a0bcf8c0",
                "tags": [
                    "hide_input"
                ]
            },
            "outputs": [],
            "execution_count": 11
        },
        {
            "cell_type": "markdown",
            "source": [
                "### Active Directory Optional Features"
            ],
            "metadata": {
                "azdata_cell_guid": "b84d6657-f5bb-4408-98f4-c7ebd6f36d18"
            }
        },
        {
            "cell_type": "code",
            "source": [
                "Get-ADOptionalFeature -Filter * -Server $DomainController |\r\n",
                "    Format-Table -Property @('Name','EnabledScopes')"
            ],
            "metadata": {
                "azdata_cell_guid": "9c274b0f-8089-4092-ba24-d517b42e4c6e",
                "tags": []
            },
            "outputs": [],
            "execution_count": 12
        },
        {
            "cell_type": "markdown",
            "source": [
                "### Export Sites & Subnets"
            ],
            "metadata": {
                "azdata_cell_guid": "63b56e35-fb91-414a-9b92-95f169310f93"
            }
        },
        {
            "cell_type": "code",
            "source": [
                "$SiteCollection = Get-ADReplicationSite -Filter * -Server $DomainController\r\n",
                "$SubnetPropertyList = @('CanonicalName', 'CN', 'createTimeStamp', 'Description', 'DisplayName', 'DistinguishedName', 'modifyTimeStamp', 'Name', 'ObjectGuid', 'ProtectedFromAccidentalDeletion')\r\n",
                "[System.Array]$SubnetCollection = foreach($Site in $SiteCollection) {\r\n",
                "  $SiteDistinguishedName = $Site.DistinguishedName\r\n",
                "  $SubnetCollection = Get-ADReplicationSubnet -Filter { Site -eq $SiteDistinguishedName } -Properties $SubnetPropertyList -Server $DomainController\r\n",
                "  if($SubnetCollection) {\r\n",
                "    foreach($SiteSubnet in $SubnetCollection) {\r\n",
                "      $SubnetObject = [PSCustomObject]@{\r\n",
                "        Site            = $Site.Name\r\n",
                "        SiteDescription = $Site.Description\r\n",
                "        SubnetName      = $SiteSubnet.Name\r\n",
                "        Network         = $SiteSubnet.Name.Split('/')[0]\r\n",
                "        Prefix          = $SiteSubnet.Name.Split('/')[1]\r\n",
                "        Description     = $SiteSubnet.Description\r\n",
                "        Created         = $SiteSubnet.createTimeStamp.ToString()\r\n",
                "        Modified        = $SiteSubnet.modifyTimeStamp.ToString()\r\n",
                "      }\r\n",
                "      $SubnetObject\r\n",
                "    }\r\n",
                "  }\r\n",
                "}\r\n",
                "$SubnetCollection |\r\n",
                "  Format-Table\r\n",
                ""
            ],
            "metadata": {
                "azdata_cell_guid": "a9d0a13a-3dec-4e1c-819d-2f45d2fef68f",
                "tags": [
                    "hide_input"
                ]
            },
            "outputs": [],
            "execution_count": 13
        },
        {
            "cell_type": "markdown",
            "source": [
                "## Domain Information"
            ],
            "metadata": {
                "azdata_cell_guid": "df4e596e-9939-4e1b-9b37-7b5709435aa0"
            }
        },
        {
            "cell_type": "markdown",
            "source": [
                "### Get Domain Information"
            ],
            "metadata": {
                "azdata_cell_guid": "a814a497-a261-4118-b8d8-89ff1d92ee29"
            }
        },
        {
            "cell_type": "code",
            "source": [
                "$DomainInformation = Get-ADDomain -Server $DomainController\r\n",
                "$DomainInformation"
            ],
            "metadata": {
                "azdata_cell_guid": "276ffc44-3e3d-4d06-85b2-b15d344df16e",
                "tags": [
                    "hide_input"
                ]
            },
            "outputs": [],
            "execution_count": 14
        },
        {
            "cell_type": "markdown",
            "source": [
                "### Domain Mode"
            ],
            "metadata": {
                "azdata_cell_guid": "834a611c-91cc-42c7-83df-eede5a1fb4e2"
            }
        },
        {
            "cell_type": "code",
            "source": [
                "$DomainInformation.DomainMode"
            ],
            "metadata": {
                "azdata_cell_guid": "5ecd37b6-9263-41f7-b5e8-2e09503ab0d6",
                "language": "markdown",
                "tags": [
                    "hide_input"
                ]
            },
            "outputs": [],
            "execution_count": 15
        },
        {
            "cell_type": "markdown",
            "source": [
                "### Domain FSMO Role Holders"
            ],
            "metadata": {
                "azdata_cell_guid": "694748ff-3cb4-49e0-9134-236d04f464a4"
            }
        },
        {
            "cell_type": "code",
            "source": [
                "$DomainInformation |\r\n",
                "    Select-Object -Property @(    \r\n",
                "        'PDCEmulator'\r\n",
                "        'InfrastructureMaster'\r\n",
                "        'RIDMaster'\r\n",
                "    ) |\r\n",
                "    Format-List"
            ],
            "metadata": {
                "azdata_cell_guid": "42b6ced2-d422-4deb-b230-1fa99e20b1df",
                "tags": []
            },
            "outputs": [],
            "execution_count": 16
        },
        {
            "cell_type": "markdown",
            "source": [
                "### Domain Trusts"
            ],
            "metadata": {
                "azdata_cell_guid": "895a5988-4c1f-4a6b-8dbb-c650010874d2"
            }
        },
        {
            "cell_type": "code",
            "source": [
                "Get-ADTrust -Filter * -Server $DomainController"
            ],
            "metadata": {
                "azdata_cell_guid": "78c38413-6cb1-45b8-8ecc-6d24c7e445e1"
            },
            "outputs": [],
            "execution_count": 17
        },
        {
            "cell_type": "markdown",
            "source": [
                "### Treat the Domain like a File System"
            ],
            "metadata": {
                "azdata_cell_guid": "07a3ea6d-45a9-4a5c-973d-28d4c3270137"
            }
        },
        {
            "cell_type": "code",
            "source": [
                "Import-Module -Name 'ActiveDirectory' -Force\r\n",
                "Get-PSDrive |\r\n",
                "    Where-Object -Property 'Provider' -Match 'ActiveDirectory' |\r\n",
                "    Format-List\r\n",
                "Write-Output \"Root of the Domain $($DomainInformation.DNSRoot)\"\r\n",
                "Get-ChildItem -Path \"AD:\\$($DomainInformation.DistinguishedName)\"\r\n",
                "Get-Item -Path \"AD:\\$($DomainInformation.DistinguishedName)\""
            ],
            "metadata": {
                "azdata_cell_guid": "7d76a9fa-3d7a-4e10-b183-866847696f58"
            },
            "outputs": [],
            "execution_count": 18
        },
        {
            "cell_type": "markdown",
            "source": [
                "## Privileged Accounts & Groups (Tier 0)"
            ],
            "metadata": {
                "azdata_cell_guid": "49fc8623-a28e-4c96-966c-1e45308e737f"
            }
        },
        {
            "cell_type": "markdown",
            "source": [
                "### Sneaky Domain Admin?"
            ],
            "metadata": {
                "azdata_cell_guid": "8a2b49ed-5161-4683-b742-d0bf6c53d1f8"
            }
        },
        {
            "cell_type": "code",
            "source": [
                "$DomainAdminSID = \"$($DomainInformation.DomainSID.AccountDomainSid.Value)-500\"\r\n",
                "$DomainAdministrator = Get-ADUser -Filter { SID -like $DomainAdminSID} -Server $DomainController\r\n",
                "if($DomainAdministrator.Name -ne 'Administrator') {\r\n",
                "    Write-Output \"$($DomainInformation.NetBiosName) has renamed the Administrator account to $($DomainAdministrator.Name). I almost didn't notice. Almost.\"\r\n",
                "} else {\r\n",
                "    Write-Output \"No security through obscurity for you in the $($DomainInformation.DNSRoot) domain.\"\r\n",
                "}"
            ],
            "metadata": {
                "azdata_cell_guid": "a4b75a15-84be-4d8e-a915-d0b0774b72eb",
                "tags": []
            },
            "outputs": [],
            "execution_count": 19
        },
        {
            "cell_type": "markdown",
            "source": [
                "### Members of all Privileged Groups"
            ],
            "metadata": {
                "azdata_cell_guid": "6e6229f5-1a4c-40a4-a3bb-4f630a76a7d8"
            }
        },
        {
            "cell_type": "code",
            "source": [
                "$PrivilegedGroupList = @(\r\n",
                "    'Account Operators'\r\n",
                "    'Administrators'\r\n",
                "    'Backup Operators'\r\n",
                "    'Cert Publishers'\r\n",
                "    'Cryptographic Operators'\r\n",
                "    'DHCP Administrators'\r\n",
                "    'DnsAdmins'\r\n",
                "    'Domain Admins'\r\n",
                "    'Enterprise Admins'\r\n",
                "    'Group Policy Creator Owners'\r\n",
                "    'Print Operators'\r\n",
                "    'Remote Desktop Services Users'\r\n",
                "    'Schema Admins'\r\n",
                "    'Server Operators'\r\n",
                ")\r\n",
                "$MemberCollection = foreach($PrivilegedGroup in $PrivilegedGroupList) {\r\n",
                "    $GroupObject = Get-ADGroup -Filter  { Name -eq $PrivilegedGroup }\r\n",
                "    if($GroupObject) {\r\n",
                "        Get-ADGroupMember -Identity $PrivilegedGroup -Server $DomainController -Recursive\r\n",
                "    }\r\n",
                "}\r\n",
                "$MemberCollection |\r\n",
                "    Sort-Object -Property 'DistinguishedName' -Unique |\r\n",
                "    Format-Table -Property @('SamAccountName','DistinguishedName')"
            ],
            "metadata": {
                "azdata_cell_guid": "27b72c74-f8e7-4422-b795-fe0ca4560e80",
                "tags": []
            },
            "outputs": [],
            "execution_count": 20
        },
        {
            "cell_type": "markdown",
            "source": [
                "### List the DistinguishedName of all users recursively in the Administrators Group"
            ],
            "metadata": {
                "azdata_cell_guid": "f03a414d-061d-4cb5-ad45-d3b783299b34"
            }
        },
        {
            "cell_type": "code",
            "source": [
                "Get-ADGroupMember -Identity 'Administrators' -Server $DomainController -Recursive |\r\n",
                "    Select-Object -ExpandProperty 'distinguishedName'"
            ],
            "metadata": {
                "azdata_cell_guid": "fa0c2506-7a8c-499e-bbf9-aea4022bbfde",
                "tags": []
            },
            "outputs": [],
            "execution_count": 21
        },
        {
            "cell_type": "markdown",
            "source": [
                "### Is the Schema Admins Empty?"
            ],
            "metadata": {
                "azdata_cell_guid": "c1a392d6-cd00-434e-bc5b-7e74c82b83e5"
            }
        },
        {
            "cell_type": "code",
            "source": [
                "$SchemaAdminsCollection = Get-ADGroupMember -Identity 'Schema Admins' -Server $DomainController\r\n",
                "if($SchemaAdminsCollection) {\r\n",
                "    Write-Output \"The 'Schema Admins' group in $($DomainInformation.DNSRoot) is populated. Unless you are extending the schema, this groups should remain empty.\"\r\n",
                "    $SchemaAdminsCollection.DistinguishedName\r\n",
                "} else {\r\n",
                "    Write-Output \"The 'Schema Admins' group in $($DomainInformation.DNSRoot) is unpopulated.\"\r\n",
                "}"
            ],
            "metadata": {
                "azdata_cell_guid": "dbcda12a-c39d-4a92-bac3-3a5645f742e0"
            },
            "outputs": [],
            "execution_count": 22
        },
        {
            "cell_type": "markdown",
            "source": [
                "### Admin SDHolder"
            ],
            "metadata": {
                "azdata_cell_guid": "98e52b5a-846d-4e52-b001-1dc332235b02"
            }
        },
        {
            "cell_type": "code",
            "source": [
                "Get-ADUser -Filter { AdminCount -eq 1 } -Server $DomainController |\r\n",
                "    Format-Table -Property @('Enabled','SamAccountName','DistinguishedName')\r\n",
                ""
            ],
            "metadata": {
                "azdata_cell_guid": "7ce64aac-a896-48ff-ba35-7d0dafe91a8f"
            },
            "outputs": [],
            "execution_count": 23
        },
        {
            "cell_type": "markdown",
            "source": [
                "## Computer Objects"
            ],
            "metadata": {
                "azdata_cell_guid": "324dda00-d89e-4603-9c1e-47ca3b0123e2"
            }
        },
        {
            "cell_type": "markdown",
            "source": [
                "### Default Computer Container"
            ],
            "metadata": {
                "azdata_cell_guid": "9e89a56a-e2b2-4ae2-bf1a-f7a279301bb1"
            }
        },
        {
            "cell_type": "code",
            "source": [
                "$DomainInformation.ComputersContainer"
            ],
            "metadata": {
                "azdata_cell_guid": "3ae6393e-0637-4d20-a8f1-b3e3a6c9a548",
                "tags": [
                    "hide_input"
                ]
            },
            "outputs": [],
            "execution_count": 24
        },
        {
            "cell_type": "markdown",
            "source": [
                "### Access Control List for the New Computers Container"
            ],
            "metadata": {
                "azdata_cell_guid": "0ab66c28-de76-424b-9afe-94814f111a00"
            }
        },
        {
            "cell_type": "code",
            "source": [
                "Get-ADObject -Identity $DomainInformation.ComputersContainer -Server $DomainController -Property 'nTSecurityDescriptor' |\r\n",
                "    Select-Object -ExpandProperty 'nTSecurityDescriptor' |\r\n",
                "    Select-Object -ExpandProperty 'Access' |\r\n",
                "    Group-Object -Property 'ActiveDirectoryRights' |\r\n",
                "    Sort-Object -Property 'Count' -Descending"
            ],
            "metadata": {
                "azdata_cell_guid": "f8e0d694-caa7-48b4-b237-82124b6a9238",
                "tags": []
            },
            "outputs": [],
            "execution_count": 25
        },
        {
            "cell_type": "markdown",
            "source": [
                "### Count of all Compouter Objects in the Domain"
            ],
            "metadata": {
                "azdata_cell_guid": "e7c0c507-ab7c-4123-a3b7-951c6c8bc9b6"
            }
        },
        {
            "cell_type": "code",
            "source": [
                "$ComputerCollection = @(Get-ADComputer -Filter * -Server $DomainController -Properties @('operatingSystem'))\r\n",
                "$ComputerCollection.Count.ToString('#,##0')"
            ],
            "metadata": {
                "azdata_cell_guid": "641528be-e0b6-48bf-94cc-67719729f15a",
                "tags": []
            },
            "outputs": [],
            "execution_count": 26
        },
        {
            "cell_type": "markdown",
            "source": [
                "### Summary of Operating Systems in the Domain"
            ],
            "metadata": {
                "azdata_cell_guid": "b57b70cd-53a6-4e1a-acd5-0340afbd2a9f"
            }
        },
        {
            "cell_type": "code",
            "source": [
                "$ComputerCollection |\r\n",
                "    Group-Object -Property 'OperatingSystem' |\r\n",
                "    Select-Object -Property @(\r\n",
                "        @{Name = 'Total';Expression={$_.Count}},\r\n",
                "        @{Name = 'OperatingSystem';Expression={$_.Name}}\r\n",
                "    ) |\r\n",
                "    Sort-Object -Property 'Total' -Descending"
            ],
            "metadata": {
                "azdata_cell_guid": "0771ece8-ef51-4fc8-a5c6-732855a67e0f",
                "tags": []
            },
            "outputs": [],
            "execution_count": 27
        },
        {
            "cell_type": "markdown",
            "source": [
                "### Table of All Server Based Computer Objects"
            ],
            "metadata": {
                "azdata_cell_guid": "65f25250-4569-4f07-ae87-0f4c82dcc2b8"
            }
        },
        {
            "cell_type": "code",
            "source": [
                "Get-ADComputer -Filter { operatingSystem -like '*Server*' } -Properties @('operatingSystem','IPv4Address') |\r\n",
                "Format-Table -Property @('Name','DNSHostName','IPv4Address','OperatingSystem')"
            ],
            "metadata": {
                "azdata_cell_guid": "a295eb43-f26c-4f11-9f1c-28bc5eeb9031"
            },
            "outputs": [],
            "execution_count": 28
        },
        {
            "cell_type": "markdown",
            "source": [
                "## Group Objects"
            ],
            "metadata": {
                "azdata_cell_guid": "4e7a9207-5921-45bf-a2b1-b82cd79cc5cb"
            }
        },
        {
            "cell_type": "markdown",
            "source": [
                "### Group Information"
            ],
            "metadata": {
                "azdata_cell_guid": "76f07c3d-f6b6-46e5-ac81-f7a5a6062d75"
            }
        },
        {
            "cell_type": "code",
            "source": [
                "Get-ADGroup -Identity 'Domain Admins' -Server $DomainController"
            ],
            "metadata": {
                "azdata_cell_guid": "e274f3b7-ee21-4296-9a78-85a5cc591066"
            },
            "outputs": [],
            "execution_count": 29
        },
        {
            "cell_type": "markdown",
            "source": [
                "### Membership of a Group"
            ],
            "metadata": {
                "azdata_cell_guid": "d3b6a5e9-26dc-4f20-bbbb-372270af8dd6"
            }
        },
        {
            "cell_type": "code",
            "source": [
                "$MemberCollection = Get-ADGroupMember -Identity 'Administrators' -Server $DomainController\r\n",
                "$MemberCollection |\r\n",
                "    Format-Table -Property @('SamAccountName','ObjectClass','DistinguishedName')"
            ],
            "metadata": {
                "azdata_cell_guid": "4c059d7f-ed55-446c-94cd-2b2658e4668c"
            },
            "outputs": [],
            "execution_count": 30
        },
        {
            "cell_type": "markdown",
            "source": [
                "## Organizational Units"
            ],
            "metadata": {
                "azdata_cell_guid": "955cb666-2504-4e51-a800-adc638dae5c0"
            }
        },
        {
            "cell_type": "markdown",
            "source": [
                "### Count of Organizational Units"
            ],
            "metadata": {
                "azdata_cell_guid": "8b937d98-7b14-46f9-9ac1-b0da2c55d355"
            }
        },
        {
            "cell_type": "code",
            "source": [
                "@(Get-ADOrganizationalUnit -Filter * -Server $DomainController).Count.ToString('#,##0')"
            ],
            "metadata": {
                "azdata_cell_guid": "2b35a706-f5f2-40ce-9087-566e18e7765a",
                "tags": [
                    "hide_input"
                ]
            },
            "outputs": [],
            "execution_count": 31
        },
        {
            "cell_type": "markdown",
            "source": [
                "## User Objects"
            ],
            "metadata": {
                "azdata_cell_guid": "0bb63dc8-9261-4668-9cc0-0163611f311c"
            }
        },
        {
            "cell_type": "markdown",
            "source": [
                "### Default User Container"
            ],
            "metadata": {
                "azdata_cell_guid": "24fd80f5-4016-46a3-98e1-3e92ce2ef780"
            }
        },
        {
            "cell_type": "code",
            "source": [
                "$DomainInformation.UsersContainer"
            ],
            "metadata": {
                "azdata_cell_guid": "3e4c35b4-fcd8-4897-9e5b-7d9f15b059e1",
                "tags": [
                    "hide_input"
                ]
            },
            "outputs": [],
            "execution_count": 32
        },
        {
            "cell_type": "markdown",
            "source": [
                "### Access Control List for the New Users Container"
            ],
            "metadata": {
                "azdata_cell_guid": "f16a9f7a-b6b4-4fc9-8b81-48cf88569751"
            }
        },
        {
            "cell_type": "code",
            "source": [
                "Get-ADObject -Identity $DomainInformation.UsersContainer -Server $DomainController -Property 'nTSecurityDescriptor' |\r\n",
                "    Select-Object -ExpandProperty 'nTSecurityDescriptor' |\r\n",
                "    Select-Object -ExpandProperty 'Access' |\r\n",
                "    Sort-Object -Property @('IdentityReference','ActiveDirectoryRights') -Unique |\r\n",
                "    Format-Table @('AccessControlType','IdentityReference','IsInherited','ActiveDirectoryRights')"
            ],
            "metadata": {
                "azdata_cell_guid": "8ce333cc-852c-4721-946c-d30d11d60b55",
                "tags": []
            },
            "outputs": [],
            "execution_count": 33
        },
        {
            "cell_type": "markdown",
            "source": [
                "### Count of all Disabled Accounts"
            ],
            "metadata": {
                "azdata_cell_guid": "11b52897-8af4-4572-84ae-e39cc46bd7d3"
            }
        },
        {
            "cell_type": "code",
            "source": [
                "@(Get-ADUser -Filter { Enabled -eq $false }).Count.ToString('#,##0')"
            ],
            "metadata": {
                "azdata_cell_guid": "3915369d-c2c1-4efc-a1fe-a58fa89143bd",
                "tags": [
                    "hide_input"
                ]
            },
            "outputs": [],
            "execution_count": 34
        },
        {
            "cell_type": "markdown",
            "source": [
                "### Users with Expired Password"
            ],
            "metadata": {
                "azdata_cell_guid": "59cff113-cd45-4ccc-94de-7ee7c73e921f"
            }
        },
        {
            "cell_type": "code",
            "source": [
                "$UsersWithExpiredPasswordCollection = @(\r\n",
                "    Search-ADAccount -PasswordExpired -Server $DomainController -UsersOnly |\r\n",
                "    Select-Object -ExpandProperty 'DistinguishedName'\r\n",
                "    )\r\n",
                "$UsersWithExpiredPasswordCollection"
            ],
            "metadata": {
                "azdata_cell_guid": "941b0aef-bb56-42f1-b02c-edb53a044974",
                "tags": []
            },
            "outputs": [],
            "execution_count": 35
        },
        {
            "cell_type": "markdown",
            "source": [
                "### Account that have Passwords that Never Expire"
            ],
            "metadata": {
                "azdata_cell_guid": "8998a5b9-2222-4b9f-be81-df9ebccbefa0"
            }
        },
        {
            "cell_type": "code",
            "source": [
                "$UserswithPasswordsThatNeverExpireCollection = Search-ADAccount -PasswordNeverExpires -Server $DomainController -UsersOnly\r\n",
                "$UserswithPasswordsThatNeverExpireCollection |\r\n",
                "    Get-ADUser -Server $DomainController -Properties @('LastLogonDate','PasswordLastSet') |\r\n",
                "    Format-Table -Property @('Enabled','SamAccountName','LastLogonDate','PasswordLastSet','DistinguishedName')"
            ],
            "metadata": {
                "azdata_cell_guid": "fe5ceabd-edd0-4ed6-8192-a31db092569b"
            },
            "outputs": [],
            "execution_count": 36
        },
        {
            "cell_type": "markdown",
            "source": [
                "### Locked out Accounts"
            ],
            "metadata": {
                "azdata_cell_guid": "0deb8dbe-d796-4bce-9c2a-4bded6782754"
            }
        },
        {
            "cell_type": "code",
            "source": [
                "$LockedOutUserCollection = Search-ADAccount -LockedOut -Server $DomainController -UsersOnly\n",
                "$LockedOutUserCollection |\n",
                "    Get-ADUser -Server $DomainController -Properties @('LastLogonDate','LockedOut','BadLogonCount','LastBadPasswordAttempt') |\n",
                "    Format-Table -Property @('Enabled','SamAccountName','LockedOut','BadLogonCount','LastLogonDate','LastBadPasswordAttempt','DistinguishedName')"
            ],
            "metadata": {
                "azdata_cell_guid": "ad4f557c-c66f-4b12-8111-8d66efa192e2"
            },
            "outputs": [],
            "execution_count": 37
        },
        {
            "cell_type": "markdown",
            "source": [
                "### Expired User Objects"
            ],
            "metadata": {
                "azdata_cell_guid": "c7af6f68-c312-4eb7-8232-d4c2d09dbd14"
            }
        },
        {
            "cell_type": "code",
            "source": [
                "$Today = Get-Date\r\n",
                "$PropertyList = @('Enabled', 'AccountExpirationDate', 'GivenName', 'SurName', 'Name', 'SamAccountName', 'UserPrincipalName', 'EmailAddress', 'Title', 'Department', 'Company', 'EmployeeID', 'EmployeeNumber', 'DistinguishedName')\r\n",
                "[System.Array]$ExpiredUserCollection = Get-ADUser -Filter { AccountExpirationDate -lt $Today } -Properties $PropertyList -Server $DomainController\r\n",
                "$ExpiredUserCollection"
            ],
            "metadata": {
                "azdata_cell_guid": "b3710c4f-0399-4853-8038-60dedf43d9ba",
                "tags": []
            },
            "outputs": [],
            "execution_count": 38
        },
        {
            "cell_type": "markdown",
            "source": [
                "## Group Managed Service Accounts"
            ],
            "metadata": {
                "azdata_cell_guid": "cd70ad5a-6537-4e2c-a49b-ea7968053eb3"
            }
        },
        {
            "cell_type": "markdown",
            "source": [
                "### Display any KDS Root Keys Present"
            ],
            "metadata": {
                "azdata_cell_guid": "02d2d331-5853-4b5c-94b5-f982d4a639ff"
            }
        },
        {
            "cell_type": "code",
            "source": [
                "Get-ADObject -Filter * -SearchBase \"CN=Master Root Keys,CN=Group Key Distribution Service,CN=Services,CN=Configuration,$($DomainInformation.DistinguishedName)\""
            ],
            "metadata": {
                "azdata_cell_guid": "7ec750da-c3d8-432d-8f0c-828053b5d1e3"
            },
            "outputs": [],
            "execution_count": 39
        },
        {
            "cell_type": "markdown",
            "source": [
                "### All Active Directory Group Managed Service Accounts"
            ],
            "metadata": {
                "azdata_cell_guid": "a71a34a8-2dec-4dbd-b791-8b1e218fb628"
            }
        },
        {
            "cell_type": "code",
            "source": [
                "$gSMACollection = Get-ADServiceAccount -Filter * -Server $DomainController\r\n",
                "if($gSMACollection) {\r\n",
                "    $gSMACollection |\r\n",
                "     Format-Table -Property @(\r\n",
                "         'Enabled',\r\n",
                "         'Name',\r\n",
                "         'SamAccountName',\r\n",
                "         'ObjectClass'\r\n",
                "         'DistinguishedName'\r\n",
                "     )\r\n",
                "} else {\r\n",
                "    Write-Output \"No Group Managed Service Accounts are present in $($DomainInformation.DNSRoot)\"\r\n",
                "}"
            ],
            "metadata": {
                "azdata_cell_guid": "1a3b9110-5eea-49b6-bb80-aebf1d0a17c3"
            },
            "outputs": [],
            "execution_count": 40
        },
        {
            "cell_type": "markdown",
            "source": [
                "## All Active Directory Get CmdLets"
            ],
            "metadata": {
                "azdata_cell_guid": "880ecb61-ed08-4fdc-b880-f0388616c967"
            }
        },
        {
            "cell_type": "code",
            "source": [
                "Get-Command -Module 'ActiveDirectory' |\r\n",
                "    Where-Object { $_.Name -match '^Get-*' }"
            ],
            "metadata": {
                "azdata_cell_guid": "3f2a76a5-d144-45e3-a7ba-be3bfa8f0661"
            },
            "outputs": [],
            "execution_count": 41
        },
        {
            "cell_type": "code",
            "source": [
                "Write-Output \"[i] Run Time: $([System.Math]::Floor($RunTime.Elapsed.TotalHours).ToString('#,#00')):$($RunTime.Elapsed.Minutes.ToString('00')):$($RunTime.Elapsed.Seconds.ToString('00'))\""
            ],
            "metadata": {
                "azdata_cell_guid": "a5d4713f-cefd-4243-a5bf-e6aa77e2ca30"
            },
            "outputs": [],
            "execution_count": 42
        },
        {
            "cell_type": "markdown",
            "source": [
                "-- Robert M. Toups, Jr."
            ],
            "metadata": {
                "azdata_cell_guid": "07e82ff7-fcb5-448a-baa1-3bf7d1cffc71"
            }
        }
    ]
}